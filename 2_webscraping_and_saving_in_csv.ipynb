{
  "nbformat": 4,
  "nbformat_minor": 0,
  "metadata": {
    "colab": {
      "provenance": [],
      "authorship_tag": "ABX9TyPv9lsNIWx8lm6gztKS0aJT"
    },
    "kernelspec": {
      "name": "python3",
      "display_name": "Python 3"
    },
    "language_info": {
      "name": "python"
    }
  },
  "cells": [
    {
      "cell_type": "code",
      "source": [
        "#1. Saving (Writing) Data to a CSV File"
      ],
      "metadata": {
        "id": "m8IKiOBNF5lg"
      },
      "execution_count": null,
      "outputs": []
    },
    {
      "cell_type": "code",
      "execution_count": null,
      "metadata": {
        "id": "h_RtkXWlEOoC"
      },
      "outputs": [],
      "source": [
        "#To write CSV file, use csv.writer() function\n",
        "import csv"
      ]
    },
    {
      "cell_type": "code",
      "source": [
        "#sample data to write\n",
        "data = [\n",
        "    ['Name', 'Age', 'City'],\n",
        "    ['John Doe', 28, 'New York'],\n",
        "    ['Jane Smith', 35, 'Los Angeles'],\n",
        "    ['Bob Johnson', 42, 'Chicago']\n",
        "]"
      ],
      "metadata": {
        "id": "HNSABV77FfrL"
      },
      "execution_count": null,
      "outputs": []
    },
    {
      "cell_type": "code",
      "source": [
        "print(data)"
      ],
      "metadata": {
        "colab": {
          "base_uri": "https://localhost:8080/"
        },
        "id": "1ITuwTB3G1Vv",
        "outputId": "21654818-bc7c-442d-dfa2-5ae10b593300"
      },
      "execution_count": null,
      "outputs": [
        {
          "output_type": "stream",
          "name": "stdout",
          "text": [
            "[['Name', 'Age', 'City'], ['John Doe', 28, 'New York'], ['Jane Smith', 35, 'Los Angeles'], ['Bob Johnson', 42, 'Chicago']]\n"
          ]
        }
      ]
    },
    {
      "cell_type": "code",
      "source": [
        "for row in data:\n",
        "  print(row)"
      ],
      "metadata": {
        "colab": {
          "base_uri": "https://localhost:8080/"
        },
        "id": "Nlklvpy1HGyH",
        "outputId": "a99b9304-60a9-4af3-9c32-420b312b61bd"
      },
      "execution_count": null,
      "outputs": [
        {
          "output_type": "stream",
          "name": "stdout",
          "text": [
            "['Name', 'Age', 'City']\n",
            "['John Doe', 28, 'New York']\n",
            "['Jane Smith', 35, 'Los Angeles']\n",
            "['Bob Johnson', 42, 'Chicago']\n"
          ]
        }
      ]
    },
    {
      "cell_type": "code",
      "source": [
        "#writing data to csv\n",
        "with open('data.csv',mode='w',newline='',encoding='utf-8') as file:\n",
        "    writer=csv.writer(file)\n",
        "    writer.writerows(data) #writing multiple rows"
      ],
      "metadata": {
        "id": "spqhzQQFFr1m"
      },
      "execution_count": null,
      "outputs": []
    },
    {
      "cell_type": "code",
      "source": [
        "#When you run the code to create and write to a CSV file, the file will be saved in the current working directory of your Python script.\n",
        "#If you're unsure where the current working directory is, you can check by adding this line to your code:\n",
        "import os\n",
        "print(os.getcwd())  # Prints the current working directory"
      ],
      "metadata": {
        "colab": {
          "base_uri": "https://localhost:8080/"
        },
        "id": "PEiuuTxKHh_L",
        "outputId": "3e278805-ad82-46e6-acff-de26757452e0"
      },
      "execution_count": null,
      "outputs": [
        {
          "output_type": "stream",
          "name": "stdout",
          "text": [
            "/content\n"
          ]
        }
      ]
    },
    {
      "cell_type": "code",
      "source": [
        "#2. Reading Data from a CSV File\n",
        "import csv"
      ],
      "metadata": {
        "id": "Z6TkeaX_H-SJ"
      },
      "execution_count": null,
      "outputs": []
    },
    {
      "cell_type": "code",
      "source": [
        "#Reading data from csv, use csv.reader()\n",
        "\n",
        "with open('data.csv',mode='r',encoding='utf-8') as file:\n",
        "    reader=csv.reader(file)\n",
        "    for row in reader:\n",
        "        print(row) #print each row"
      ],
      "metadata": {
        "colab": {
          "base_uri": "https://localhost:8080/"
        },
        "id": "X1p9DzVuIzzG",
        "outputId": "9d623d66-ca58-492a-9a0d-df9abe20c6e8"
      },
      "execution_count": null,
      "outputs": [
        {
          "output_type": "stream",
          "name": "stdout",
          "text": [
            "['Name', 'Age', 'City']\n",
            "['John Doe', '28', 'New York']\n",
            "['Jane Smith', '35', 'Los Angeles']\n",
            "['Bob Johnson', '42', 'Chicago']\n"
          ]
        }
      ]
    },
    {
      "cell_type": "code",
      "source": [
        "#Scraping table\n",
        "\n",
        "from bs4 import BeautifulSoup\n",
        "import requests\n",
        "import csv"
      ],
      "metadata": {
        "id": "x2g8QD9BIz2e"
      },
      "execution_count": 30,
      "outputs": []
    },
    {
      "cell_type": "code",
      "source": [
        "url=\"https://cf-courses-data.s3.us.cloud-object-storage.appdomain.cloud/IBM-DA0321EN-SkillsNetwork/labs/datasets/Programming_Languages.html\""
      ],
      "metadata": {
        "id": "1ic2YBAjWHUq"
      },
      "execution_count": 31,
      "outputs": []
    },
    {
      "cell_type": "code",
      "source": [
        "#send a get request to the webpage\n",
        "data=requests.get(url).text"
      ],
      "metadata": {
        "id": "vaYqtfz5XDxg"
      },
      "execution_count": 32,
      "outputs": []
    },
    {
      "cell_type": "code",
      "source": [
        "#parse the html content using BeautifulSoup\n",
        "soup=BeautifulSoup(data,'html.parser')"
      ],
      "metadata": {
        "id": "g9tTOE7lXDz_"
      },
      "execution_count": 33,
      "outputs": []
    },
    {
      "cell_type": "code",
      "source": [
        "#find the table in the html\n",
        "table=soup.find('table')"
      ],
      "metadata": {
        "id": "_BJk3s_bXD2Z"
      },
      "execution_count": 34,
      "outputs": []
    },
    {
      "cell_type": "code",
      "source": [
        "#Ensure the table exist before proceeding\n",
        "if table:\n",
        "  # loop through the rows of the table and print the content\n",
        "  for row in table.find_all('tr')[1:]: #Skip the header row\n",
        "    cols=row.find_all('td') #Get the column in each row\n",
        "    languages=cols[1].getText()\n",
        "    salary=cols[3].getText()\n",
        "    print(\"{}--->{}\".format(languages,salary))\n",
        "else:\n",
        "  print(\"Table not found\")\n",
        "\n"
      ],
      "metadata": {
        "colab": {
          "base_uri": "https://localhost:8080/"
        },
        "id": "qQQSzE7HXD5_",
        "outputId": "bb833d1e-5ae5-492d-98a2-11259c5ff9ad"
      },
      "execution_count": 35,
      "outputs": [
        {
          "output_type": "stream",
          "name": "stdout",
          "text": [
            "Python--->$114,383\n",
            "Java--->$101,013\n",
            "R--->$92,037\n",
            "Javascript--->$110,981\n",
            "Swift--->$130,801\n",
            "C++--->$113,865\n",
            "C#--->$88,726\n",
            "PHP--->$84,727\n",
            "SQL--->$84,793\n",
            "Go--->$94,082\n"
          ]
        }
      ]
    },
    {
      "cell_type": "code",
      "source": [
        "# Check if table exists\n",
        "if table:\n",
        "    # Prepare a list to store the data\n",
        "    data = []\n",
        "    # Add the header row (optional)\n",
        "    data.append(['Language', 'Average Salary'])\n",
        "\n",
        "    # Loop through the rows of the table and extract language names and salaries\n",
        "    for row in table.find_all('tr')[1:]:  # Skip the header row\n",
        "        cols = row.find_all('td')\n",
        "        if len(cols) > 1:  # Make sure there are enough columns\n",
        "            language = cols[1].getText()  # Extract language name from the second column\n",
        "            salary = cols[3].getText()    # Extract salary from the fourth column\n",
        "            data.append([language, salary])  # Add data to the list\n",
        "\n",
        "    # Write the scraped data to a CSV file\n",
        "    with open('popular-languages.csv', mode='w', newline='', encoding='utf-8') as file:\n",
        "        writer = csv.writer(file)\n",
        "        writer.writerows(data)  # Write all rows to CSV\n",
        "    print(\"Data has been written to popular-languages.csv\")\n",
        "else:\n",
        "    print(\"Table not found\")\n"
      ],
      "metadata": {
        "colab": {
          "base_uri": "https://localhost:8080/"
        },
        "id": "7LvGZHWebYhC",
        "outputId": "65e7fea4-1410-4a73-897e-adfbe268c003"
      },
      "execution_count": 38,
      "outputs": [
        {
          "output_type": "stream",
          "name": "stdout",
          "text": [
            "Data has been written to popular-languages.csv\n"
          ]
        }
      ]
    },
    {
      "cell_type": "code",
      "source": [
        "# Open the CSV file in read mode\n",
        "with open('popular-languages.csv', mode='r', encoding='utf-8') as file:\n",
        "    reader = csv.reader(file)\n",
        "\n",
        "    # Loop through the rows of the CSV file and print each row\n",
        "    for row in reader:\n",
        "        print(row)"
      ],
      "metadata": {
        "colab": {
          "base_uri": "https://localhost:8080/"
        },
        "id": "7EXN-PAKY8bF",
        "outputId": "2af4e47d-2a29-4c57-90e2-2bc3637262d7"
      },
      "execution_count": 39,
      "outputs": [
        {
          "output_type": "stream",
          "name": "stdout",
          "text": [
            "['Language', 'Average Salary']\n",
            "['Python', '$114,383']\n",
            "['Java', '$101,013']\n",
            "['R', '$92,037']\n",
            "['Javascript', '$110,981']\n",
            "['Swift', '$130,801']\n",
            "['C++', '$113,865']\n",
            "['C#', '$88,726']\n",
            "['PHP', '$84,727']\n",
            "['SQL', '$84,793']\n",
            "['Go', '$94,082']\n"
          ]
        }
      ]
    }
  ]
}