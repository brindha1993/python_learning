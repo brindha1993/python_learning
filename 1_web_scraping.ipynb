{
  "nbformat": 4,
  "nbformat_minor": 0,
  "metadata": {
    "colab": {
      "provenance": [],
      "authorship_tag": "ABX9TyNqO7gwsbmbh3Vxx5Af7YOc",
      "include_colab_link": true
    },
    "kernelspec": {
      "name": "python3",
      "display_name": "Python 3"
    },
    "language_info": {
      "name": "python"
    }
  },
  "cells": [
    {
      "cell_type": "markdown",
      "metadata": {
        "id": "view-in-github",
        "colab_type": "text"
      },
      "source": [
        "<a href=\"https://colab.research.google.com/github/brindha1993/python_learning/blob/main/1_web_scraping.ipynb\" target=\"_parent\"><img src=\"https://colab.research.google.com/assets/colab-badge.svg\" alt=\"Open In Colab\"/></a>"
      ]
    },
    {
      "cell_type": "code",
      "execution_count": null,
      "metadata": {
        "id": "vCRg0aQ6GYCe"
      },
      "outputs": [],
      "source": [
        "from bs4 import BeautifulSoup # this module helps in web scrapping\n",
        "import requests #  this module helps to download a webpage"
      ]
    },
    {
      "cell_type": "code",
      "source": [
        "url=\"http://www.ibm.com\""
      ],
      "metadata": {
        "id": "t4ZkvuMEGthV"
      },
      "execution_count": null,
      "outputs": []
    },
    {
      "cell_type": "code",
      "source": [
        "#getthe content of the webpage in text format and store in a variable called data\n",
        "data=requests.get(url).text"
      ],
      "metadata": {
        "id": "lwyU763HHSUf"
      },
      "execution_count": null,
      "outputs": []
    },
    {
      "cell_type": "code",
      "source": [
        "soup=BeautifulSoup(data,\"html.parser\") # Create a soup object using the variable 'data'"
      ],
      "metadata": {
        "id": "GNKRFUddHSg9"
      },
      "execution_count": null,
      "outputs": []
    },
    {
      "cell_type": "code",
      "source": [
        "# Scrape all links\n",
        "for link in soup.find_all('a'):\n",
        "  print(link.get('href'))"
      ],
      "metadata": {
        "colab": {
          "base_uri": "https://localhost:8080/"
        },
        "id": "9sGhZnaYHtlX",
        "outputId": "ae0acc7f-c5d9-4a31-e6b7-25ee393074b0"
      },
      "execution_count": null,
      "outputs": [
        {
          "output_type": "stream",
          "name": "stdout",
          "text": [
            "https://www.ibm.com/granite?lnk=dev\n",
            "https://developer.ibm.com/technologies/artificial-intelligence?lnk=dev\n",
            "https://www.ibm.com/products/watsonx-code-assistant?lnk=dev\n",
            "https://www.ibm.com/watsonx/developer/?lnk=dev\n",
            "https://www.ibm.com/thought-leadership/institute-business-value/report/ceo-generative-ai?lnk=bus\n",
            "https://www.ibm.com/think/reports/ai-in-action?lnk=bus\n",
            "https://www.ibm.com/products/watsonx-orchestrate/ai-agent-for-hr?lnk=bus\n",
            "https://skillsbuild.org/adult-learners/explore-learning/artificial-intelligence?lnk=bus\n",
            "https://www.ibm.com/artificial-intelligence?lnk=ProdC\n",
            "https://www.ibm.com/hybrid-cloud?lnk=ProdC\n",
            "https://www.ibm.com/consulting?lnk=ProdC\n"
          ]
        }
      ]
    },
    {
      "cell_type": "code",
      "source": [
        "#scrape all images\n",
        "for link in soup.find_all('img'):\n",
        "  print(link.get('src'))"
      ],
      "metadata": {
        "id": "uuDZWyRHHtwa"
      },
      "execution_count": null,
      "outputs": []
    },
    {
      "cell_type": "code",
      "source": [
        "# Scrape data from html tables\n",
        "URL= \"https://cf-courses-data.s3.us.cloud-object-storage.appdomain.cloud/IBM-DA0321EN-SkillsNetwork/labs/datasets/HTMLColorCodes.html\""
      ],
      "metadata": {
        "id": "yhMm-se1HSr8"
      },
      "execution_count": null,
      "outputs": []
    },
    {
      "cell_type": "code",
      "source": [
        "data=requests.get(URL).text"
      ],
      "metadata": {
        "id": "cTmW8CjaJ7I_"
      },
      "execution_count": null,
      "outputs": []
    },
    {
      "cell_type": "code",
      "source": [
        "soup=BeautifulSoup(data,\"html.parser\")"
      ],
      "metadata": {
        "id": "akuGuYVbKQnz"
      },
      "execution_count": null,
      "outputs": []
    },
    {
      "cell_type": "code",
      "source": [
        "#find a html table in the webpage\n",
        "table=soup.find('table')"
      ],
      "metadata": {
        "id": "bhPgw_seKQqJ"
      },
      "execution_count": null,
      "outputs": []
    },
    {
      "cell_type": "code",
      "source": [
        "for row in table.find_all('tr'): # in html table row is represented by the tag <tr>:\n",
        "\n",
        "# Get all columns in each row\n",
        "  cols=row.find_all('td') # in html table, a column is represented by tag <td>\n",
        "  color_name=cols[2].getText() # store the value in column 3 as color_name\n",
        "  color_code=cols[3].getText() # store the value in column 4 as color_code\n",
        "  print(\"{}--->{}\".format(color_name,color_code))"
      ],
      "metadata": {
        "colab": {
          "base_uri": "https://localhost:8080/"
        },
        "id": "qXduVXuzKQth",
        "outputId": "1abd3b96-c43b-47eb-8421-804278c2ee2f"
      },
      "execution_count": null,
      "outputs": [
        {
          "output_type": "stream",
          "name": "stdout",
          "text": [
            "Color Name--->Hex Code#RRGGBB\n",
            "lightsalmon--->#FFA07A\n",
            "salmon--->#FA8072\n",
            "darksalmon--->#E9967A\n",
            "lightcoral--->#F08080\n",
            "coral--->#FF7F50\n",
            "tomato--->#FF6347\n",
            "orangered--->#FF4500\n",
            "gold--->#FFD700\n",
            "orange--->#FFA500\n",
            "darkorange--->#FF8C00\n",
            "lightyellow--->#FFFFE0\n",
            "lemonchiffon--->#FFFACD\n",
            "papayawhip--->#FFEFD5\n",
            "moccasin--->#FFE4B5\n",
            "peachpuff--->#FFDAB9\n",
            "palegoldenrod--->#EEE8AA\n",
            "khaki--->#F0E68C\n",
            "darkkhaki--->#BDB76B\n",
            "yellow--->#FFFF00\n",
            "lawngreen--->#7CFC00\n",
            "chartreuse--->#7FFF00\n",
            "limegreen--->#32CD32\n",
            "lime--->#00FF00\n",
            "forestgreen--->#228B22\n",
            "green--->#008000\n",
            "powderblue--->#B0E0E6\n",
            "lightblue--->#ADD8E6\n",
            "lightskyblue--->#87CEFA\n",
            "skyblue--->#87CEEB\n",
            "deepskyblue--->#00BFFF\n",
            "lightsteelblue--->#B0C4DE\n",
            "dodgerblue--->#1E90FF\n"
          ]
        }
      ]
    }
  ]
}